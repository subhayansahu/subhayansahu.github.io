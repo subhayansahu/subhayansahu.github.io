{
  "nbformat": 4,
  "nbformat_minor": 0,
  "metadata": {
    "kernelspec": {
      "display_name": "Python 3",
      "language": "python",
      "name": "python3"
    },
    "language_info": {
      "codemirror_mode": {
        "name": "ipython",
        "version": 3
      },
      "file_extension": ".py",
      "mimetype": "text/x-python",
      "name": "python",
      "nbconvert_exporter": "python",
      "pygments_lexer": "ipython3",
      "version": "3.6.3"
    },
    "colab": {
      "provenance": [],
      "toc_visible": true
    }
  },
  "cells": [
    {
      "cell_type": "markdown",
      "source": [
        "# TEBD code"
      ],
      "metadata": {
        "id": "4A4PytOjR5UN"
      }
    },
    {
      "cell_type": "markdown",
      "source": [
        "TEBD code\n",
        "Code from Frank Pollmann; see notes at https://nextcloud.tfk.ph.tum.de/cmt/index.php/apps/cms_pico/pico/mps_tutorial_2013"
      ],
      "metadata": {
        "id": "3rSfpzeBvqa3"
      }
    },
    {
      "cell_type": "code",
      "metadata": {
        "id": "c4F1WmD80nhD"
      },
      "source": [
        "from scipy import integrate\n",
        "from scipy.linalg import expm\n",
        "import pylab as pl\n",
        "import numpy as np\n",
        "import scipy as sp\n",
        "\n",
        "# Conventions:\n",
        "# B[i,a,b] = Gamma[i,a,b]*Lambda[b] has axes (physical, left virtual, right virtual),\n",
        "# Lambda[i] = s[i] are schmidt values between sites (i-1, i),\n",
        "# H_bond[i] is the bond hamiltonian between (i,i+1) with (only physical)"
      ],
      "execution_count": null,
      "outputs": []
    },
    {
      "cell_type": "code",
      "metadata": {
        "id": "lYsYYE6P0nhM"
      },
      "source": [
        "def init_fm_mps(L):\n",
        "    \"\"\" Returns FM Ising MPS\"\"\"\n",
        "    d = 2\n",
        "    B = []\n",
        "    s = []\n",
        "    for i in range(L):\n",
        "        B.append(np.zeros([2, 1, 1]))\n",
        "        B[-1][0, 0, 0] = 1\n",
        "        s.append(np.ones([1]))\n",
        "    s.append(np.ones([1]))\n",
        "    return B, s\n",
        "\n",
        "\n",
        "def init_ising_U_bond(g, J, L, delta):\n",
        "    \"\"\" Returns bond hamiltonian and bond time-evolution\"\"\"\n",
        "    sx = np.array([[0., 1.], [1., 0.]])\n",
        "    sz = np.array([[1., 0.], [0., -1.]])\n",
        "    d = 2\n",
        "\n",
        "    U_bond = []\n",
        "    H_bond = []\n",
        "    for i in range(L-2):\n",
        "        H = -J * np.kron(sz, sz) + g * np.kron(sx, np.eye(2))\n",
        "        H_bond.append(np.reshape(H, (d, d, d, d)))\n",
        "        U_bond.append(np.reshape(expm(-delta * H), (d, d, d, d)))\n",
        "\n",
        "    H = -J * np.kron(sz, sz) + g * (np.kron(sx, np.eye(2)) + np.kron(np.eye(2),sx))\n",
        "    H_bond.append(np.reshape(H, (d, d, d, d)))\n",
        "    U_bond.append(np.reshape(expm(-delta * H), (d, d, d, d)))\n",
        "\n",
        "    return U_bond, H_bond\n",
        "\n",
        "\n",
        "def bond_expectation(B, s, O_list):\n",
        "    \" Expectation value for a bond operator \"\n",
        "    E = []\n",
        "    L = len(B)\n",
        "    for i_bond in range(L-1):\n",
        "        BB = np.tensordot(B[i_bond], B[i_bond + 1], axes=(2, 1))\n",
        "        sBB = np.tensordot(np.diag(s[i_bond]), BB, axes=(1, 1))\n",
        "        C = np.tensordot(sBB, O_list[i_bond], axes=([1, 2], [2, 3]))\n",
        "        sBB = np.conj(sBB)\n",
        "        E.append( np.squeeze(np.tensordot(sBB, C, axes=([0, 3, 1, 2], [0, 1, 2, 3]))).item())\n",
        "    return E\n",
        "\n",
        "\n",
        "def site_expectation(B, s, O_list):\n",
        "    \" Expectation value for a site operator \"\n",
        "    E = []\n",
        "    L = len(B)\n",
        "    for isite in range(0, L):\n",
        "        sB = np.tensordot(np.diag(s[isite]), B[isite], axes=(1, 1))\n",
        "        C = np.tensordot(sB, O_list[isite], axes=(1, 0))\n",
        "        sB = sB.conj()\n",
        "        E.append(np.squeeze(np.tensordot(sB, C, axes=([0, 1, 2], [0, 2, 1]))).item())\n",
        "    return E\n",
        "\n",
        "\n",
        "def entanglement_entropy(s):\n",
        "    \" Returns the half chain entanglement entropy \"\n",
        "    S = []\n",
        "    for i_bond in range(L+1):\n",
        "        x = s[i_bond][s[i_bond] > 10**(-20)]**2\n",
        "        S.append(-np.inner(np.log(x), x))\n",
        "    return S\n",
        "\n",
        "\n",
        "def sweep(B, s, U_bond, D):\n",
        "    \"\"\" Perform the imaginary time evolution of the MPS \"\"\"\n",
        "    L = len(B)\n",
        "    d = B[0].shape[0]\n",
        "    for k in [0, 1]:\n",
        "        for i_bond in range(k, L-1, 2):\n",
        "            ia = i_bond\n",
        "            ib = i_bond + 1\n",
        "            ic = i_bond + 2\n",
        "\n",
        "            Da = B[ia].shape[1]\n",
        "            Dc = B[ib].shape[2]\n",
        "\n",
        "            # Construct theta matrix and time evolution #\n",
        "            theta = np.tensordot(B[ia], B[ib], axes=(2, 1))  # i a j b\n",
        "            theta = np.tensordot(U_bond[i_bond], theta, axes=([2, 3], [0, 2]))  # ip jp a b\n",
        "            theta = np.tensordot(np.diag(s[ia]), theta, axes=([1, 2]))  # a ip jp b\n",
        "            theta = np.reshape(np.transpose(theta, (1, 0, 2, 3)), (d*Da, d*Dc))  # ip a jp b\n",
        "\n",
        "            # Schmidt decomposition #\n",
        "            X, Y, Z = sp.linalg.svd(theta,full_matrices=0,lapack_driver='gesvd')\n",
        "            D2 = np.min([np.sum(Y > 10.**(-10)), D])\n",
        "\n",
        "            piv = np.zeros(len(Y), bool)\n",
        "            piv[(np.argsort(Y)[::-1])[:D2]] = True ## Truncation ##\n",
        "\n",
        "            Y = Y[piv]\n",
        "            invsq = np.sqrt(sum(Y**2))\n",
        "            X = X[:, piv]\n",
        "            Z = Z[piv, :]\n",
        "\n",
        "            # Obtain the new values for B and s #\n",
        "            s[ib] = Y / invsq\n",
        "            X = np.reshape(X, (d, Da, D2))\n",
        "            X = np.transpose(\n",
        "                np.tensordot(np.diag(s[ia]**(-1)), X, axes=(1, 1)), (1, 0, 2))\n",
        "            B[ia] = np.tensordot(X, np.diag(s[ib]), axes=(2, 0))\n",
        "            B[ib] = np.transpose(np.reshape(Z, (D2, d, Dc)), (1, 0, 2))"
      ],
      "execution_count": null,
      "outputs": []
    },
    {
      "cell_type": "code",
      "source": [
        "def tebd_ising_gs(J, g, T, delta_tau_list, D, L):\n",
        "\n",
        "    B, s = init_fm_mps(L)\n",
        "    sz = np.array([[1., 0.], [0., -1.]])\n",
        "\n",
        "    for delta_tau in delta_tau_list:\n",
        "        U_bond, H_bond = init_ising_U_bond(g, J, L, delta_tau)\n",
        "\n",
        "        for i in range(int(T / delta_tau)):\n",
        "            sweep(B, s, U_bond, D)\n",
        "\n",
        "        E = np.sum(bond_expectation(B, s, H_bond))\n",
        "        m = np.sum(site_expectation(B, s, L*[sz]))\n",
        "        S = entanglement_entropy(s)[L//2]\n",
        "\n",
        "        print(\"E=%.6f\" % E,\n",
        "              \"m=%.6f\" % m,\n",
        "              \"S=%.6f\" % S,\n",
        "              \"(TEBD, delta_tau =\", delta_tau, \")\")\n",
        "\n",
        "    return E, m, S, B, s\n"
      ],
      "metadata": {
        "id": "ZoLE__3dws8U"
      },
      "execution_count": null,
      "outputs": []
    },
    {
      "cell_type": "code",
      "metadata": {
        "id": "Ur_C-HI_0nhR",
        "colab": {
          "base_uri": "https://localhost:8080/"
        },
        "outputId": "ed6f5ad0-703e-4b5e-d6a7-e48bc0043d98"
      },
      "source": [
        "# Demo I: Imaginary Time Evolution\n",
        "#\n",
        "# Find the ground state using imaginary time evolution\n",
        "\n",
        "E0_exact =  -13.191404952188883 # L = 8, J = 1, g = 1.5\n",
        "J = 1.0\n",
        "g = 1.5\n",
        "D = 10\n",
        "T = 30\n",
        "L = 8\n",
        "delta_tau_list = [0.1,0.01]\n",
        "\n",
        "E, m, S, B, s = tebd_ising_gs(J, g, T, delta_tau_list, D, L)\n",
        "\n",
        "print(\"\\n|E_itebd - E_exact| =\", np.abs(E - E0_exact))"
      ],
      "execution_count": null,
      "outputs": [
        {
          "output_type": "stream",
          "name": "stdout",
          "text": [
            "E=-13.173932 m=-0.000000 S=0.182015 (TEBD, delta_tau = 0.1 )\n",
            "E=-13.191690 m=0.000000 S=0.155435 (TEBD, delta_tau = 0.01 )\n",
            "\n",
            "|E_itebd - E_exact| = 0.00028539524465287514\n"
          ]
        }
      ]
    },
    {
      "cell_type": "code",
      "source": [],
      "metadata": {
        "id": "y5OHH0njSwP1"
      },
      "execution_count": null,
      "outputs": []
    },
    {
      "cell_type": "markdown",
      "source": [
        "# Questions"
      ],
      "metadata": {
        "id": "p4xa7oDgR_vB"
      }
    },
    {
      "cell_type": "markdown",
      "source": [
        "Questions:\n",
        "\n",
        "1. For $L = 8$, the exact energy value is known, and given in the code above. Now, fix a $\\delta t$ and change the bond dimension $D$ to see how the energy obtained from the TEBD code approaches the exact value as you change $D$. Now fix $D$ and reduce $\\delta t$ to see how the accuracy changes as a function of $\\delta t$. Do the same exercise by changing the total imaginary time $T$.\n",
        "\n",
        "2. Now, increase $L$ to $20-40$. Choose a fixed $\\delta t$. Now, check the convergence of the energy values as a function of $D$.\n",
        "\n",
        "3. Next, check the behaviour of the lowest energy value and the magnetization $\\sum_i \\langle Z_i \\rangle $ for fixed $L$, and other parameters in the code, as function of the transverse field $g$. Plot its graph. Do you find that the convergence is uniform for all $g$?\n",
        "\n",
        "4. (Bonus) Write code to extract correlation function $\\langle Z_i Z_{i+r} \\rangle $ from the obtained ground state MPS. How does the correlation function behave as a function of $r$, as $g$ is varied? Study, in particular, the phase transition point $g = 1$.\n",
        "\n"
      ],
      "metadata": {
        "id": "GlTHnGakPMrV"
      }
    },
    {
      "cell_type": "code",
      "source": [
        "Hello world"
      ],
      "metadata": {
        "id": "tIT6fBd7PN4g",
        "outputId": "5addb6ba-cc81-462d-9b68-dc50b1c40d70",
        "colab": {
          "base_uri": "https://localhost:8080/",
          "height": 108
        }
      },
      "execution_count": null,
      "outputs": [
        {
          "output_type": "error",
          "ename": "SyntaxError",
          "evalue": "invalid syntax (ipython-input-1-2283479775.py, line 1)",
          "traceback": [
            "\u001b[0;36m  File \u001b[0;32m\"/tmp/ipython-input-1-2283479775.py\"\u001b[0;36m, line \u001b[0;32m1\u001b[0m\n\u001b[0;31m    Hello world\u001b[0m\n\u001b[0m          ^\u001b[0m\n\u001b[0;31mSyntaxError\u001b[0m\u001b[0;31m:\u001b[0m invalid syntax\n"
          ]
        }
      ]
    },
    {
      "cell_type": "code",
      "source": [],
      "metadata": {
        "id": "ESXeKKXIwmwC"
      },
      "execution_count": null,
      "outputs": []
    }
  ]
}