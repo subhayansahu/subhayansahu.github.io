{
  "nbformat": 4,
  "nbformat_minor": 0,
  "metadata": {
    "colab": {
      "provenance": [],
      "toc_visible": true
    },
    "kernelspec": {
      "name": "python3",
      "display_name": "Python 3"
    },
    "language_info": {
      "name": "python"
    }
  },
  "cells": [
    {
      "cell_type": "code",
      "execution_count": null,
      "metadata": {
        "id": "J6eYoS8Fxssv"
      },
      "outputs": [],
      "source": []
    },
    {
      "cell_type": "markdown",
      "source": [
        "# Demo 1. Create your own MPS!"
      ],
      "metadata": {
        "id": "f3QDjQ5TxvWs"
      }
    },
    {
      "cell_type": "code",
      "source": [
        "import numpy as np\n",
        "from typing import List, TypeVar\n",
        "\n",
        "class MPS:\n",
        "    \"\"\"\n",
        "    Matrix Product State class.\n",
        "    Each tensor has shape (left_bond, physical_dim, right_bond).\n",
        "    \"\"\"\n",
        "    def __init__(self, tensor_list: List[np.ndarray]):\n",
        "        if not tensor_list:\n",
        "            raise ValueError(\"tensor_list cannot be empty\")\n",
        "\n",
        "        # Validate 3D tensors\n",
        "        for i, tensor in enumerate(tensor_list):\n",
        "            if tensor.ndim != 3:\n",
        "                raise ValueError(f\"Tensor {i} must be 3D, got {tensor.ndim}D\")\n",
        "\n",
        "        self.tensor_list = tensor_list\n",
        "\n",
        "    def __len__(self) -> int:\n",
        "        return len(self.tensor_list)\n",
        "\n",
        "    def phys_dim(self) -> int:\n",
        "        return self.tensor_list[0].shape[1]\n",
        "\n",
        "    def max_bond_dim(self) -> int:\n",
        "        all_bonds = []\n",
        "        for tensor in self.tensor_list:\n",
        "            all_bonds.extend([tensor.shape[0], tensor.shape[2]])\n",
        "        return max(all_bonds)\n",
        "\n",
        "    def bond_dims(self) -> List[int]:\n",
        "        \"\"\"Return list of all bond dimensions.\"\"\"\n",
        "        dims = [self.tensor_list[0].shape[0]]  # First left bond\n",
        "        for tensor in self.tensor_list:\n",
        "            dims.append(tensor.shape[2])  # Right bonds\n",
        "        return dims\n",
        "\n",
        "    def copy(self) -> 'MPS':\n",
        "        return MPS([tensor.copy() for tensor in self.tensor_list])\n",
        "\n",
        "    def __repr__(self) -> str:\n",
        "        return (f\"MPS(sites={len(self)}, \"\n",
        "                f\"phys_dim={self.phys_dim()}, \"\n",
        "                f\"max_bond={self.max_bond_dim()}, \"\n",
        "                f\"dtype={self.tensor_list[0].dtype})\")\n",
        "    def __getitem__(self, index: int) -> np.ndarray:\n",
        "        \"\"\"Access tensor at given site.\"\"\"\n",
        "        return self.tensor_list[index]\n",
        "\n",
        "    def __setitem__(self, index: int, tensor: np.ndarray):\n",
        "        \"\"\"Set tensor at given site.\"\"\"\n",
        "        if tensor.ndim != 3:\n",
        "            raise ValueError(\"Tensor must be 3D\")\n",
        "        self.tensor_list[index] = tensor\n",
        "\n",
        "# Test the simplified version\n",
        "tensors = [np.random.randn(1, 2, 4),\n",
        "            np.random.randn(4, 2, 4),\n",
        "            np.random.randn(4, 2, 1)]\n",
        "\n",
        "mps = MPS(tensors)\n",
        "print(f\"Real MPS: {mps}\")\n",
        "\n",
        "# Works with any dtype\n",
        "complex_tensors = [t.astype(np.complex128) for t in tensors]\n",
        "complex_mps = MPS(complex_tensors)\n",
        "print(f\"Complex MPS: {complex_mps}\")"
      ],
      "metadata": {
        "colab": {
          "base_uri": "https://localhost:8080/"
        },
        "id": "JdW_zJN210gr",
        "outputId": "215e8e76-19de-44e2-a483-64a28fa47c1a"
      },
      "execution_count": null,
      "outputs": [
        {
          "output_type": "stream",
          "name": "stdout",
          "text": [
            "Real MPS: MPS(sites=3, phys_dim=2, max_bond=4, dtype=float64)\n",
            "Complex MPS: MPS(sites=3, phys_dim=2, max_bond=4, dtype=complex128)\n"
          ]
        }
      ]
    },
    {
      "cell_type": "code",
      "source": [
        "# Helper functions for creating common MPS states\n",
        "def create_random_mps(length: int, phys_dim: int, bond_dim: int,\n",
        "                     dtype: np.dtype = np.float64) -> MPS:\n",
        "    \"\"\"\n",
        "    Create a random MPS with specified dimensions.\n",
        "\n",
        "    Parameters:\n",
        "    length: Number of sites\n",
        "    phys_dim: Physical dimension at each site\n",
        "    bond_dim: Maximum bond dimension\n",
        "    dtype: Data type for tensors\n",
        "    \"\"\"\n",
        "    tensors = []\n",
        "\n",
        "    for i in range(length):\n",
        "        if i == 0:  # First tensor\n",
        "            left_dim = 1\n",
        "            right_dim = min(bond_dim, phys_dim**(length-1))\n",
        "        elif i == length - 1:  # Last tensor\n",
        "            left_dim = min(bond_dim, phys_dim**(length-1))\n",
        "            right_dim = 1\n",
        "        else:  # Middle tensors\n",
        "            left_dim = min(bond_dim, phys_dim**i)\n",
        "            right_dim = min(bond_dim, phys_dim**(length-1-i))\n",
        "\n",
        "        # Create random tensor\n",
        "        if dtype in [np.complex64, np.complex128]:\n",
        "            tensor = (np.random.randn(left_dim, phys_dim, right_dim) +\n",
        "                     1j * np.random.randn(left_dim, phys_dim, right_dim)).astype(dtype)\n",
        "        else:\n",
        "            tensor = np.random.randn(left_dim, phys_dim, right_dim).astype(dtype)\n",
        "\n",
        "        tensors.append(tensor)\n",
        "\n",
        "    return MPS(tensors)\n",
        "\n",
        "def create_product_state(length: int, state_indices: List[int]) -> MPS:\n",
        "    \"\"\"\n",
        "    Create an MPS representing a product state.\n",
        "\n",
        "    Parameters:\n",
        "    length: Number of sites\n",
        "    state_indices: List of local state indices (e.g., [0,1,0,1] for |0101⟩)\n",
        "    \"\"\"\n",
        "    if len(state_indices) != length:\n",
        "        raise ValueError(\"Length of state_indices must match MPS length\")\n",
        "\n",
        "    tensors = []\n",
        "    phys_dim = max(state_indices) + 1\n",
        "\n",
        "    for i, state_idx in enumerate(state_indices):\n",
        "        if i == 0:  # First tensor\n",
        "            tensor = np.zeros((1, phys_dim, 1))\n",
        "            tensor[0, state_idx, 0] = 1.0\n",
        "        elif i == length - 1:  # Last tensor\n",
        "            tensor = np.zeros((1, phys_dim, 1))\n",
        "            tensor[0, state_idx, 0] = 1.0\n",
        "        else:  # Middle tensors\n",
        "            tensor = np.zeros((1, phys_dim, 1))\n",
        "            tensor[0, state_idx, 0] = 1.0\n",
        "\n",
        "        tensors.append(tensor)\n",
        "\n",
        "    return MPS(tensors)\n",
        "\n",
        "# Create product state MPS\n",
        "print(\"\\n1. Creating product state |01010⟩...\")\n",
        "product_mps = create_product_state(5, [0, 1, 0, 1, 0])\n",
        "print(f\"   {product_mps}\")\n",
        "print(f\"   Bond dimensions: {product_mps.bond_dims()}\")\n",
        "print(f\"   Length: {len(product_mps)}\")\n",
        "print(f\"   Max bond dimension: {product_mps.max_bond_dim()}\")\n",
        "\n",
        "# Create complex MPS\n",
        "print(\"\\n2. Creating complex MPS...\")\n",
        "complex_mps = create_random_mps(5, 2, 3, dtype=np.complex128)\n",
        "print(f\"   {complex_mps}\")\n",
        "print(f\"   First tensor dtype: {complex_mps[0].dtype}\")\n",
        "print(f\"   Second tensor with shape {complex_mps[2].shape} is \\n{complex_mps[2]}\")"
      ],
      "metadata": {
        "colab": {
          "base_uri": "https://localhost:8080/"
        },
        "id": "4kET-lwg100O",
        "outputId": "a95c2456-6315-462f-ba4b-99676544a17a"
      },
      "execution_count": null,
      "outputs": [
        {
          "output_type": "stream",
          "name": "stdout",
          "text": [
            "\n",
            "1. Creating product state |01010⟩...\n",
            "   MPS(sites=5, phys_dim=2, max_bond=1, dtype=float64)\n",
            "   Bond dimensions: [1, 1, 1, 1, 1, 1]\n",
            "   Length: 5\n",
            "   Max bond dimension: 1\n",
            "\n",
            "2. Creating complex MPS...\n",
            "   MPS(sites=5, phys_dim=2, max_bond=3, dtype=complex128)\n",
            "   First tensor dtype: complex128\n",
            "   Second tensor with shape (3, 2, 3) is \n",
            "[[[ 0.19001169-0.69181477j -1.28610116-0.43278305j\n",
            "    0.77406309-1.24505478j]\n",
            "  [-0.60048458+0.80935027j  0.63268838-1.41878099j\n",
            "    0.25725809+1.89930633j]]\n",
            "\n",
            " [[ 1.60369413+0.0191521j  -0.23943453+0.54623168j\n",
            "   -0.48779423+0.1960289j ]\n",
            "  [ 0.62968975-0.52510844j -0.87793804+0.50020047j\n",
            "    0.57240086+1.24196251j]]\n",
            "\n",
            " [[ 0.47194141+0.00446272j -0.28680118-0.51450513j\n",
            "    0.84590173-0.59271517j]\n",
            "  [-1.43323792+0.24954991j -0.26706798+0.36312237j\n",
            "    0.20621758-0.98260927j]]]\n"
          ]
        }
      ]
    },
    {
      "cell_type": "code",
      "source": [
        "mps_copy = product_mps.copy()"
      ],
      "metadata": {
        "id": "4GZ3r8gX2S-w"
      },
      "execution_count": null,
      "outputs": []
    },
    {
      "cell_type": "code",
      "source": [],
      "metadata": {
        "colab": {
          "base_uri": "https://localhost:8080/"
        },
        "id": "15ntk1qC3yw8",
        "outputId": "4db56fdd-bd5e-4316-b763-aee7076cab5e"
      },
      "execution_count": null,
      "outputs": [
        {
          "output_type": "execute_result",
          "data": {
            "text/plain": [
              "array([[[1.],\n",
              "        [0.]]])"
            ]
          },
          "metadata": {},
          "execution_count": 42
        }
      ]
    },
    {
      "cell_type": "markdown",
      "source": [
        "## Problem 1.\n",
        "\n",
        "Write the MPS corresponding to the GHZ state: write a function that takes the length L as an input and outputs the GHZ state as an MPS."
      ],
      "metadata": {
        "id": "29SDilFU7cPO"
      }
    },
    {
      "cell_type": "markdown",
      "source": [
        "# Demo 2: Convert MPS to dense"
      ],
      "metadata": {
        "id": "-CTUgOIj7SJf"
      }
    },
    {
      "cell_type": "code",
      "source": [
        "import numpy as np\n",
        "from typing import List\n",
        "\n",
        "def mps_to_dense(M):\n",
        "    \"\"\"\n",
        "    Convert an MPS to its dense state vector representation.\n",
        "    WARNING: Only run this for small systems!! Memory scales as d^L.\n",
        "\n",
        "    Parameters:\n",
        "    M: MPS object\n",
        "\n",
        "    Returns:\n",
        "    numpy array: Dense state vector of length d^L\n",
        "    \"\"\"\n",
        "    d = M.phys_dim()  # Physical dimension\n",
        "    L = len(M)        # Number of sites\n",
        "\n",
        "    # Start with the first tensor\n",
        "    tmp = M.tensor_list[0]  # Shape: (1, d, bond_dim)\n",
        "\n",
        "    # Contract with remaining tensors\n",
        "    for i in range(1, L):\n",
        "        A = M.tensor_list[i]  # Shape: (bond_dim, d, bond_dim)\n",
        "        dR = A.shape[2]       # Right bond dimension\n",
        "\n",
        "        # Einstein summation: tmp[l,s1,r1] * A[r1,s2,r] -> tmp2[l,s1,s2,r]\n",
        "        # This contracts the right bond of tmp with left bond of A\n",
        "        tmp2 = np.einsum('lsr,rtu->lstu', tmp, A)\n",
        "\n",
        "        # Reshape to combine physical indices\n",
        "        # tmp2 has shape (1, d, d, dR) -> reshape to (1, d^(i+1), dR)\n",
        "        tmp = tmp2.reshape(1, d**(i+1), dR)\n",
        "\n",
        "    # Final reshape to get the dense state vector\n",
        "    psi = tmp.reshape(d**L)\n",
        "\n",
        "    return psi\n",
        "\n",
        "def mps_to_dense_verbose(M):\n",
        "    \"\"\"\n",
        "    Verbose version with step-by-step explanation and intermediate shapes.\n",
        "    \"\"\"\n",
        "    print(\"Converting MPS to dense state vector...\")\n",
        "    print(f\"Physical dimension d = {M.phys_dim()}\")\n",
        "    print(f\"Number of sites L = {len(M)}\")\n",
        "    print(f\"Final vector size will be d^L = {M.phys_dim()**len(M)}\")\n",
        "    print()\n",
        "\n",
        "    d = M.phys_dim()\n",
        "    L = len(M)\n",
        "\n",
        "    tmp = M.tensor_list[0]\n",
        "    print(f\"Step 0: Start with first tensor, shape = {tmp.shape}\")\n",
        "\n",
        "    for i in range(1, L):\n",
        "        A = M.tensor_list[i]\n",
        "        print(f\"Step {i}: Contracting with tensor {i}, shape = {A.shape}\")\n",
        "\n",
        "        # Show the contraction explicitly\n",
        "        print(f\"  Before contraction: tmp.shape = {tmp.shape}\")\n",
        "        print(f\"  Contracting indices: tmp[..., r1] * A[r1, ...]\")\n",
        "\n",
        "        tmp2 = np.einsum('lsr,rtu->lstu', tmp, A)\n",
        "        print(f\"  After contraction: tmp2.shape = {tmp2.shape}\")\n",
        "\n",
        "        # Reshape\n",
        "        new_shape = (1, d**(i+1), A.shape[2])\n",
        "        tmp = tmp2.reshape(new_shape)\n",
        "        print(f\"  After reshape: tmp.shape = {tmp.shape}\")\n",
        "        print()\n",
        "\n",
        "    psi = tmp.reshape(d**L)\n",
        "    print(f\"Final dense vector shape: {psi.shape}\")\n",
        "\n",
        "    return psi\n",
        "\n",
        "def verify_mps_conversion():\n",
        "    \"\"\"\n",
        "    Create a simple MPS and verify the conversion makes sense.\n",
        "    \"\"\"\n",
        "    print(\"=== Verification Example ===\")\n",
        "\n",
        "    # Create a simple 3-site MPS representing |000⟩ state\n",
        "    # Each tensor puts all weight on the |0⟩ state\n",
        "    tensor1 = np.zeros((1, 2, 2))  # (1, phys, bond)\n",
        "    tensor1[0, 0, 0] = 1.0  # |0⟩ state, first bond index\n",
        "\n",
        "    tensor2 = np.zeros((2, 2, 2))  # (bond, phys, bond)\n",
        "    tensor2[0, 0, 0] = 1.0  # Continue |0⟩ state\n",
        "\n",
        "    tensor3 = np.zeros((2, 2, 1))  # (bond, phys, 1)\n",
        "    tensor3[0, 0, 0] = 1.0  # End with |0⟩ state\n",
        "\n",
        "    mps = MPS([tensor1, tensor2, tensor3])\n",
        "\n",
        "    print(\"Created 3-site MPS representing |000⟩ state\")\n",
        "    print(\"Tensor shapes:\", [t.shape for t in mps.tensor_list])\n",
        "\n",
        "    # Convert to dense\n",
        "    psi = mps_to_dense(mps)\n",
        "    print(f\"Dense vector: {psi}\")\n",
        "    print(f\"Expected: [1, 0, 0, 0, 0, 0, 0, 0] (|000⟩ in computational basis)\")\n",
        "    print(f\"Norm: {np.linalg.norm(psi)}\")\n",
        "\n",
        "    return psi\n",
        "\n",
        "if __name__ == \"__main__\":\n",
        "\n",
        "    # Run verification\n",
        "    psi = verify_mps_conversion()\n"
      ],
      "metadata": {
        "colab": {
          "base_uri": "https://localhost:8080/"
        },
        "id": "YunuL3gL4CN9",
        "outputId": "362c1286-2b9c-4dea-e3ae-ffaad62f6f01"
      },
      "execution_count": null,
      "outputs": [
        {
          "output_type": "stream",
          "name": "stdout",
          "text": [
            "=== Verification Example ===\n",
            "Created 3-site MPS representing |000⟩ state\n",
            "Tensor shapes: [(1, 2, 2), (2, 2, 2), (2, 2, 1)]\n",
            "Dense vector: [1. 0. 0. 0. 0. 0. 0. 0.]\n",
            "Expected: [1, 0, 0, 0, 0, 0, 0, 0] (|000⟩ in computational basis)\n",
            "Norm: 1.0\n"
          ]
        }
      ]
    },
    {
      "cell_type": "markdown",
      "source": [
        "# # Demo 3. Convert dense vector to MPS."
      ],
      "metadata": {
        "id": "Uq4_RnYt9muJ"
      }
    },
    {
      "cell_type": "code",
      "source": [
        "\n",
        "\n",
        "def dense_to_MPS(psi: np.ndarray, d: int) -> MPS:\n",
        "    \"\"\"\n",
        "    Convert a dense vector to Matrix Product State (MPS) representation\n",
        "\n",
        "    Parameters:\n",
        "    psi: Dense state vector\n",
        "    d: Local physical dimension (physical dimension)\n",
        "\n",
        "    Returns:\n",
        "    MyMPS object containing the tensor decomposition\n",
        "    \"\"\"\n",
        "    L = int(round(np.log(len(psi)) / np.log(d)))\n",
        "    psi = psi.reshape((d, d**(L-1)))\n",
        "\n",
        "    U, S, Vt = np.linalg.svd(psi, full_matrices=False)\n",
        "    A1 = U.reshape((1, d, U.shape[1]))\n",
        "\n",
        "    Ts = [A1]\n",
        "\n",
        "    for i in range(2, L+1):\n",
        "        SVt = np.diag(S) @ Vt\n",
        "        dL = len(S)\n",
        "        SVt = SVt.reshape((dL * d, d**(L-i)))\n",
        "\n",
        "        U, S, Vt = np.linalg.svd(SVt, full_matrices=False)\n",
        "        dR = U.shape[1]\n",
        "        A = U.reshape((dL, d, dR))\n",
        "        Ts.append(A)\n",
        "\n",
        "    M = MPS(Ts)\n",
        "    return M"
      ],
      "metadata": {
        "id": "qGPQvq9JAUkk"
      },
      "execution_count": null,
      "outputs": []
    },
    {
      "cell_type": "code",
      "source": [
        "# Create a simple 3-site MPS representing |000⟩ state\n",
        "# Each tensor puts all weight on the |0⟩ state\n",
        "tensor1 = np.zeros((1, 2, 2))  # (1, phys, bond)\n",
        "tensor1[0, 0, 0] = 1.0  # |0⟩ state, first bond index\n",
        "\n",
        "tensor2 = np.zeros((2, 2, 2))  # (bond, phys, bond)\n",
        "tensor2[0, 0, 0] = 1.0  # Continue |0⟩ state\n",
        "\n",
        "tensor3 = np.zeros((2, 2, 1))  # (bond, phys, 1)\n",
        "tensor3[0, 0, 0] = 1.0  # End with |0⟩ state\n",
        "\n",
        "mps = MPS([tensor1, tensor2, tensor3])\n",
        "\n",
        "print(\"Created 3-site MPS representing |000⟩ state\")\n",
        "print(\"Tensor shapes:\", [t.shape for t in mps.tensor_list])\n",
        "\n",
        "# Convert to dense\n",
        "psi = mps_to_dense(mps)\n",
        "print(psi)"
      ],
      "metadata": {
        "colab": {
          "base_uri": "https://localhost:8080/"
        },
        "id": "mX0Zxxz38MZR",
        "outputId": "bfdf7da1-38bb-413c-dd9e-da9da2b11f32"
      },
      "execution_count": null,
      "outputs": [
        {
          "output_type": "stream",
          "name": "stdout",
          "text": [
            "Created 3-site MPS representing |000⟩ state\n",
            "Tensor shapes: [(1, 2, 2), (2, 2, 2), (2, 2, 1)]\n",
            "[1. 0. 0. 0. 0. 0. 0. 0.]\n"
          ]
        }
      ]
    },
    {
      "cell_type": "code",
      "source": [
        "mps = dense_to_MPS(psi, 2)\n",
        "print(f\"1st tensor: \\n {mps[0]}\")\n",
        "print(f\"2nd tensor: \\n {mps[1]}\")\n",
        "print(f\"3rd tensor: \\n {mps[2]}\")\n",
        "\n",
        "psi = mps_to_dense(mps)\n",
        "print(psi)"
      ],
      "metadata": {
        "colab": {
          "base_uri": "https://localhost:8080/"
        },
        "id": "Hjci-zh08a_N",
        "outputId": "3dbfcbff-2622-4f78-a722-72011e8fc2dc"
      },
      "execution_count": null,
      "outputs": [
        {
          "output_type": "stream",
          "name": "stdout",
          "text": [
            "1st tensor: \n",
            " [[[1. 0.]\n",
            "  [0. 1.]]]\n",
            "2nd tensor: \n",
            " [[[1. 0.]\n",
            "  [0. 1.]]\n",
            "\n",
            " [[0. 0.]\n",
            "  [0. 0.]]]\n",
            "3rd tensor: \n",
            " [[[1.]\n",
            "  [0.]]\n",
            "\n",
            " [[0.]\n",
            "  [0.]]]\n",
            "[1. 0. 0. 0. 0. 0. 0. 0.]\n"
          ]
        }
      ]
    },
    {
      "cell_type": "markdown",
      "source": [
        "## Problem 2.\n",
        "\n",
        "Write code to compute the entanglement entropy across each cut for an input MPS.\n",
        "\n",
        "Hint: Use the mps_to_dense function to convert the state into a dense vector. Then perform successive SVD (see the dense_to_mps function) and use the singular values to compute entanglement."
      ],
      "metadata": {
        "id": "ltZryu0r93Jk"
      }
    },
    {
      "cell_type": "code",
      "source": [],
      "metadata": {
        "id": "KdK5nZ5a-n2B"
      },
      "execution_count": null,
      "outputs": []
    }
  ]
}